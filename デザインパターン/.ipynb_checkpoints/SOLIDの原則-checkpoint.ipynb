{
 "cells": [
  {
   "cell_type": "markdown",
   "id": "59bae389-6596-4dc7-89ae-023774e35e9f",
   "metadata": {},
   "source": [
    "# 単一責任の原則(Single responsibility principle)\n",
    "全てのモジュールとクラスは1つの役割を提供して責任をもつべきとする原則"
   ]
  },
  {
   "cell_type": "markdown",
   "id": "fea41bac-ace2-4b1b-80d1-9710c42357ab",
   "metadata": {},
   "source": [
    "## ダメな例\n",
    "write_str_to_fileはデータを持つUserInfoの役割に別の役割を持たせるため"
   ]
  },
  {
   "cell_type": "code",
   "execution_count": 6,
   "id": "3d7a2598-b522-4f5d-ba1c-26dc031045db",
   "metadata": {
    "jupyter": {
     "source_hidden": true
    },
    "tags": []
   },
   "outputs": [
    {
     "name": "stdout",
     "output_type": "stream",
     "text": [
      "Taro, 21, 000-0000-0000\n"
     ]
    }
   ],
   "source": [
    "class UserInfo:\n",
    "    \n",
    "    def __init__(self, name, age, phone_number):\n",
    "        self.name = name\n",
    "        self.age = age\n",
    "        self.phone_number = phone_number\n",
    "        \n",
    "    def write_str_to_file(self, filename):\n",
    "        with open(filename, mode='w') as f:\n",
    "            f.write(str(self))\n",
    "    \n",
    "    def __str__(self):\n",
    "        return f'{self.name}, {self.age}, {self.phone_number}'\n",
    "    \n",
    "user_info = UserInfo('Taro', 21, '000-0000-0000')\n",
    "print(str(user_info))\n",
    "user_info.write_str_to_file('test1.txt')"
   ]
  },
  {
   "cell_type": "markdown",
   "id": "7e503d88-70f4-41af-9c84-c29c5f6a5cd2",
   "metadata": {},
   "source": [
    "## 良い例\n",
    "FileManegerクラスを別途作成"
   ]
  },
  {
   "cell_type": "code",
   "execution_count": 7,
   "id": "1ae39443-220e-4d9c-a9aa-972fa4af00fd",
   "metadata": {},
   "outputs": [
    {
     "name": "stdout",
     "output_type": "stream",
     "text": [
      "Taro, 21, 000-0000-0000\n"
     ]
    }
   ],
   "source": [
    "class UserInfo:\n",
    "    \n",
    "    def __init__(self, name, age, phone_number):\n",
    "        self.name = name\n",
    "        self.age = age\n",
    "        self.phone_number = phone_number\n",
    "        \n",
    "    def __str__(self):\n",
    "        return f'{self.name}, {self.age}, {self.phone_number}'\n",
    "\n",
    "\n",
    "class FileManager:\n",
    "    \n",
    "    @staticmethod\n",
    "    def write_str_to_file(obj, filename):\n",
    "        with open(filename, mode='w') as f:\n",
    "            f.write(str(obj))\n",
    "            \n",
    "\n",
    "user_info = UserInfo('Taro', 21, '000-0000-0000')\n",
    "print(str(user_info))\n",
    "FileManager.write_str_to_file(user_info, 'test2.txt')"
   ]
  },
  {
   "cell_type": "markdown",
   "id": "1e1110b1-cd92-4e8e-842a-180764082e41",
   "metadata": {},
   "source": []
  },
  {
   "cell_type": "markdown",
   "id": "26a8046b-69f8-4ba2-a451-c17fa5ba99ab",
   "metadata": {},
   "source": [
    "# 開放閉鎖の原則(Open/closed principle)\n",
    "クラス、モジュール、関数等のソフトウェアの部品は拡張に対しては開いており、修正に対しては閉じていなければならない"
   ]
  },
  {
   "cell_type": "markdown",
   "id": "9a9c8722-5a0a-4812-917a-d1293d2ef99f",
   "metadata": {},
   "source": []
  },
  {
   "cell_type": "code",
   "execution_count": null,
   "id": "d3765d4f-1a3a-452c-b94a-17774927d8f5",
   "metadata": {},
   "outputs": [],
   "source": []
  }
 ],
 "metadata": {
  "kernelspec": {
   "display_name": "Python 3",
   "language": "python",
   "name": "python3"
  },
  "language_info": {
   "codemirror_mode": {
    "name": "ipython",
    "version": 3
   },
   "file_extension": ".py",
   "mimetype": "text/x-python",
   "name": "python",
   "nbconvert_exporter": "python",
   "pygments_lexer": "ipython3",
   "version": "3.8.8"
  },
  "toc-autonumbering": false,
  "toc-showcode": false,
  "toc-showmarkdowntxt": false
 },
 "nbformat": 4,
 "nbformat_minor": 5
}
