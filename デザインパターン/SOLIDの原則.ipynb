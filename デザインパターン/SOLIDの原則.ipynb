{
 "cells": [
  {
   "cell_type": "markdown",
   "id": "c3fc4ff1",
   "metadata": {},
   "source": [
    "# 単一責任の原則(Single responsibility principle)\n",
    "全てのモジュールとクラスは1つの役割を提供して責任をもつべきとする原則"
   ]
  },
  {
   "cell_type": "markdown",
   "id": "f7f973b3",
   "metadata": {},
   "source": [
    "## ダメな例\n",
    "write_str_to_fileはデータを持つUserInfoの役割に別の役割を持たせるため"
   ]
  },
  {
   "cell_type": "code",
   "execution_count": 6,
   "id": "9347b98a",
   "metadata": {
    "tags": []
   },
   "outputs": [
    {
     "name": "stdout",
     "output_type": "stream",
     "text": [
      "Taro, 21, 000-0000-0000\n"
     ]
    }
   ],
   "source": [
    "class UserInfo:\n",
    "    \n",
    "    def __init__(self, name, age, phone_number):\n",
    "        self.name = name\n",
    "        self.age = age\n",
    "        self.phone_number = phone_number\n",
    "        \n",
    "    def write_str_to_file(self, filename):\n",
    "        with open(filename, mode='w') as f:\n",
    "            f.write(str(self))\n",
    "    \n",
    "    def __str__(self):\n",
    "        return f'{self.name}, {self.age}, {self.phone_number}'\n",
    "    \n",
    "user_info = UserInfo('Taro', 21, '000-0000-0000')\n",
    "print(str(user_info))\n",
    "user_info.write_str_to_file('test1.txt')"
   ]
  },
  {
   "cell_type": "markdown",
   "id": "e9117f66",
   "metadata": {},
   "source": [
    "## 良い例\n",
    "FileManegerクラスを別途作成"
   ]
  },
  {
   "cell_type": "code",
   "execution_count": 7,
   "id": "85dc58b7",
   "metadata": {},
   "outputs": [
    {
     "name": "stdout",
     "output_type": "stream",
     "text": [
      "Taro, 21, 000-0000-0000\n"
     ]
    }
   ],
   "source": [
    "class UserInfo:\n",
    "    \n",
    "    def __init__(self, name, age, phone_number):\n",
    "        self.name = name\n",
    "        self.age = age\n",
    "        self.phone_number = phone_number\n",
    "        \n",
    "    def __str__(self):\n",
    "        return f'{self.name}, {self.age}, {self.phone_number}'\n",
    "\n",
    "\n",
    "class FileManager:\n",
    "    \n",
    "    @staticmethod\n",
    "    def write_str_to_file(obj, filename):\n",
    "        with open(filename, mode='w') as f:\n",
    "            f.write(str(obj))\n",
    "            \n",
    "\n",
    "user_info = UserInfo('Taro', 21, '000-0000-0000')\n",
    "print(str(user_info))\n",
    "FileManager.write_str_to_file(user_info, 'test2.txt')"
   ]
  },
  {
   "cell_type": "markdown",
   "id": "94d87a52",
   "metadata": {},
   "source": []
  },
  {
   "cell_type": "markdown",
   "id": "9f782140",
   "metadata": {},
   "source": [
    "# 開放閉鎖の原則(Open/closed principle)\n",
    "クラス、モジュール、関数等のソフトウェアの部品は拡張に対しては開いており、修正に対しては閉じていなければならない"
   ]
  },
  {
   "cell_type": "markdown",
   "id": "38f6e9b6",
   "metadata": {},
   "source": [
    "## ダメな例\n",
    "UserInfoFilterに機能追加しようとしたら他を変更しないといけなくなる"
   ]
  },
  {
   "cell_type": "code",
   "execution_count": 1,
   "id": "a2a16001",
   "metadata": {},
   "outputs": [
    {
     "name": "stdout",
     "output_type": "stream",
     "text": [
      "jiro, police man, Japan\n"
     ]
    }
   ],
   "source": [
    "class UserInfo:\n",
    "    \n",
    "    def __init__(self, user_name, job_name, nationality):\n",
    "        self.user_name = user_name\n",
    "        self.job_name = job_name\n",
    "        self.nationality = nationality\n",
    "        \n",
    "    def __str__(self):\n",
    "        return f'{self.user_name}, {self.job_name}, {self.nationality}'\n",
    "    \n",
    "class UserInfoFilter:\n",
    "    \n",
    "    @staticmethod\n",
    "    def filter_users_job(users, job_name):\n",
    "        for user in users:\n",
    "            if user.job_name == job_name:\n",
    "                yield user\n",
    "                \n",
    "                \n",
    "    @staticmethod\n",
    "    def filter_users_nationality(users, nationality):\n",
    "        for user in users:\n",
    "            if user.nationality == nationality:\n",
    "                yield user\n",
    "                \n",
    "    \n",
    "    \n",
    "taro = UserInfo('taro', 'salary man', 'Japan')\n",
    "jiro = UserInfo('jiro', 'police man', 'Japan')\n",
    "john = UserInfo('john', 'salary man', 'USA')\n",
    "\n",
    "user_list = [taro, jiro, john]\n",
    "\n",
    "for man in UserInfoFilter.filter_users_job(user_list, 'police man'):\n",
    "    print(man)  "
   ]
  },
  {
   "cell_type": "code",
   "execution_count": 15,
   "id": "33a05944",
   "metadata": {},
   "outputs": [
    {
     "name": "stdout",
     "output_type": "stream",
     "text": [
      "taro, salary man, Japan\n",
      "jiro, police man, Japan\n"
     ]
    }
   ],
   "source": [
    "for man in UserInfoFilter.filter_users_nationality(user_list, 'Japan'):\n",
    "    print(man)"
   ]
  },
  {
   "cell_type": "markdown",
   "id": "79b26c72",
   "metadata": {},
   "source": [
    "## 良い例"
   ]
  },
  {
   "cell_type": "code",
   "execution_count": 4,
   "id": "63356c77",
   "metadata": {},
   "outputs": [
    {
     "name": "stdout",
     "output_type": "stream",
     "text": [
      "taro, salary man, Japan\n",
      "john, salary man, USA\n",
      "taro, salary man, Japan\n",
      "jiro, police man, Japan\n"
     ]
    }
   ],
   "source": [
    "from abc import ABCMeta, abstractmethod\n",
    "\n",
    "class UserInfo:\n",
    "    \"\"\"ユーザー情報を保有するクラス\n",
    "    \n",
    "    Attributes:\n",
    "        user_name(str): ユーザー名\n",
    "        job_name(str): 職業\n",
    "        nationality(str): 国籍\n",
    "    \"\"\"\n",
    "    def __init__(self, user_name, job_name, nationality):\n",
    "        self.user_name = user_name\n",
    "        self.job_name = job_name\n",
    "        self.nationality = nationality\n",
    "        \n",
    "    def __str__(self):\n",
    "        return f'{self.user_name}, {self.job_name}, {self.nationality}'\n",
    "    \n",
    "    \n",
    "class Comparation(metaclass=ABCMeta):\n",
    "    \"\"\"比較するためのメタクラス\"\"\"\n",
    "    \n",
    "    @abstractmethod\n",
    "    def is_equal(self, other):\n",
    "        pass\n",
    "    \n",
    "\n",
    "class Filter(metaclass=ABCMeta):\n",
    "    \"\"\"フィルタするためのメタクラス\"\"\"\n",
    "    \n",
    "    @abstractmethod\n",
    "    def filter(self, comparation, item):\n",
    "        pass\n",
    "\n",
    "    \n",
    "class JobNameComparation(Comparation):\n",
    "    \"\"\"職業で比較するためのクラス\"\"\"\n",
    "    \n",
    "    def __init__(self, job_name):\n",
    "        self.job_name = job_name\n",
    "        \n",
    "    def is_equal(self, other):\n",
    "        \"\"\"一致するかの判定\n",
    "        \n",
    "        Args:\n",
    "            other(obj): ユーザークラスのインスタンス化したもの\n",
    "        \n",
    "        Returns:\n",
    "            bool: 職業がインスタンス変数と一致したらTrueを返す\n",
    "        \"\"\"\n",
    "        return self.job_name == other.job_name\n",
    "\n",
    "    \n",
    "class NationalityComparation(Comparation):\n",
    "    \"\"\"国籍で比較するためのクラス\"\"\"\n",
    "    \n",
    "    def __init__(self, nationality):\n",
    "        self.nationality = nationality\n",
    "        \n",
    "    def is_equal(self, other):\n",
    "        \"\"\"一致するかの判定\n",
    "        \n",
    "        Args:\n",
    "            other(obj): ユーザークラスのインスタンス化したもの\n",
    "        \n",
    "        Returns:\n",
    "            bool: 国籍がインスタンス変数と一致したらTrueを返す\n",
    "        \"\"\"\n",
    "        return self.nationality == other.nationality\n",
    "    \n",
    "    \n",
    "class UserInfoFilter(Filter):\n",
    "    \"\"\"ユーザー情報を抽出するためのクラス\"\"\"\n",
    "    \n",
    "    def filter(self, comparation, items):\n",
    "        \"\"\"フィルタの実行\n",
    "        \n",
    "        Args:\n",
    "            comparation(obj): 比較するためのインスタンスしたクラスオブジェクト？\n",
    "            items(list): ユーザーのリスト\n",
    "        \"\"\"\n",
    "        for item in items:\n",
    "            if comparation.is_equal(item):\n",
    "                yield item\n",
    "                \n",
    "\n",
    "taro = UserInfo('taro', 'salary man', 'Japan')\n",
    "jiro = UserInfo('jiro', 'police man', 'Japan')\n",
    "john = UserInfo('john', 'salary man', 'USA')\n",
    "\n",
    "user_list = [taro, jiro, john]\n",
    "\n",
    "\n",
    "salary_man_comparation = JobNameComparation('salary man')\n",
    "user_info_filter = UserInfoFilter()\n",
    "\n",
    "for user in user_info_filter.filter(salary_man_comparation, user_list):\n",
    "    print(user)\n",
    "\n",
    "japan_comparation = NationalityComparation('Japan')\n",
    "for user in user_info_filter.filter(japan_comparation, user_list):\n",
    "    print(user)"
   ]
  },
  {
   "cell_type": "markdown",
   "id": "fa17ff4f",
   "metadata": {},
   "source": [
    "さらにAnd条件、or条件を追加する場合"
   ]
  },
  {
   "cell_type": "code",
   "execution_count": 7,
   "id": "aa9619f2",
   "metadata": {},
   "outputs": [
    {
     "name": "stdout",
     "output_type": "stream",
     "text": [
      "taro, salary man, Japan\n",
      "**********\n",
      "taro, salary man, Japan\n",
      "jiro, police man, Japan\n",
      "john, salary man, USA\n"
     ]
    }
   ],
   "source": [
    "from abc import ABCMeta, abstractmethod\n",
    "\n",
    "class UserInfo:\n",
    "    \"\"\"ユーザー情報を保有するクラス\n",
    "    \n",
    "    Attributes:\n",
    "        user_name(str): ユーザー名\n",
    "        job_name(str): 職業\n",
    "        nationality(str): 国籍\n",
    "    \"\"\"\n",
    "    def __init__(self, user_name, job_name, nationality):\n",
    "        self.user_name = user_name\n",
    "        self.job_name = job_name\n",
    "        self.nationality = nationality\n",
    "        \n",
    "    def __str__(self):\n",
    "        return f'{self.user_name}, {self.job_name}, {self.nationality}'\n",
    "    \n",
    "    \n",
    "class Comparation(metaclass=ABCMeta):\n",
    "    \"\"\"比較するためのメタクラス\"\"\"\n",
    "    \n",
    "    @abstractmethod\n",
    "    def is_equal(self, other):\n",
    "        pass\n",
    "    \n",
    "    def __and__(self, other):\n",
    "        return AndComparation(self, other)\n",
    "    \n",
    "    def __or__(self, other):\n",
    "        return OrComparation(self, other)\n",
    "    \n",
    "    \n",
    "class AndComparation(Comparation):\n",
    "    \n",
    "    def __init__(self, *args):\n",
    "        self.comparation = args\n",
    "        \n",
    "    def is_equal(self, other):\n",
    "        return all(\n",
    "            map(\n",
    "                lambda comparation: comparation.is_equal(other), self.comparation \n",
    "            )\n",
    "        )\n",
    "    \n",
    "    \n",
    "class OrComparation(Comparation):\n",
    "    \n",
    "    def __init__(self, *args):\n",
    "        self.comparation = args\n",
    "        \n",
    "    def is_equal(self, other):\n",
    "        return any(\n",
    "            map(\n",
    "                lambda comparation: comparation.is_equal(other), self.comparation \n",
    "            )\n",
    "        )    \n",
    "\n",
    "class Filter(metaclass=ABCMeta):\n",
    "    \"\"\"フィルタするためのメタクラス\"\"\"\n",
    "    \n",
    "    @abstractmethod\n",
    "    def filter(self, comparation, item):\n",
    "        pass\n",
    "\n",
    "    \n",
    "class JobNameComparation(Comparation):\n",
    "    \"\"\"職業で比較するためのクラス\"\"\"\n",
    "    \n",
    "    def __init__(self, job_name):\n",
    "        self.job_name = job_name\n",
    "        \n",
    "    def is_equal(self, other):\n",
    "        \"\"\"一致するかの判定\n",
    "        \n",
    "        Args:\n",
    "            other(obj): ユーザークラスのインスタンス化したもの\n",
    "        \n",
    "        Returns:\n",
    "            bool: 職業がインスタンス変数と一致したらTrueを返す\n",
    "        \"\"\"\n",
    "        return self.job_name == other.job_name\n",
    "\n",
    "    \n",
    "class NationalityComparation(Comparation):\n",
    "    \"\"\"国籍で比較するためのクラス\"\"\"\n",
    "    \n",
    "    def __init__(self, nationality):\n",
    "        self.nationality = nationality\n",
    "        \n",
    "    def is_equal(self, other):\n",
    "        \"\"\"一致するかの判定\n",
    "        \n",
    "        Args:\n",
    "            other(obj): ユーザークラスのインスタンス化したもの\n",
    "        \n",
    "        Returns:\n",
    "            bool: 国籍がインスタンス変数と一致したらTrueを返す\n",
    "        \"\"\"\n",
    "        return self.nationality == other.nationality\n",
    "    \n",
    "    \n",
    "class UserInfoFilter(Filter):\n",
    "    \"\"\"ユーザー情報を抽出するためのクラス\"\"\"\n",
    "    \n",
    "    def filter(self, comparation, items):\n",
    "        \"\"\"フィルタの実行\n",
    "        \n",
    "        Args:\n",
    "            comparation(obj): 比較するためのインスタンスしたクラスオブジェクト？\n",
    "            items(list): ユーザーのリスト\n",
    "        \"\"\"\n",
    "        for item in items:\n",
    "            if comparation.is_equal(item):\n",
    "                yield item\n",
    "                \n",
    "\n",
    "taro = UserInfo('taro', 'salary man', 'Japan')\n",
    "jiro = UserInfo('jiro', 'police man', 'Japan')\n",
    "john = UserInfo('john', 'salary man', 'USA')\n",
    "\n",
    "user_list = [taro, jiro, john]\n",
    "\n",
    "\n",
    "user_info_filter = UserInfoFilter()\n",
    "\n",
    "salary_man_comparation = JobNameComparation('salary man')\n",
    "japan_comparation = NationalityComparation('Japan')\n",
    "\n",
    "salary_man_and_japan_comparation = salary_man_comparation & japan_comparation\n",
    "for user in user_info_filter.filter(salary_man_and_japan_comparation, user_list):\n",
    "    print(user)\n",
    "    \n",
    "print('*'*10)\n",
    "salary_man_or_japan_comparation = salary_man_comparation | japan_comparation\n",
    "for user in user_info_filter.filter(salary_man_or_japan_comparation, user_list):\n",
    "    print(user)"
   ]
  },
  {
   "cell_type": "markdown",
   "id": "524c0bed",
   "metadata": {},
   "source": [
    "# リスコフの置換原則(Liskov substitution principle)\n",
    "サブクラスは、そのスーパークラスの代用ができなければならない"
   ]
  },
  {
   "cell_type": "markdown",
   "id": "833a4319",
   "metadata": {},
   "source": [
    "## ダメな例"
   ]
  },
  {
   "cell_type": "code",
   "execution_count": 15,
   "id": "5c251ed4",
   "metadata": {},
   "outputs": [
    {
     "name": "stdout",
     "output_type": "stream",
     "text": [
      "予想面積 = 200, 実際面積 = 200\n"
     ]
    }
   ],
   "source": [
    "class Rectangle:\n",
    "    \n",
    "    def __init__(self, width, height):\n",
    "        self._width = width\n",
    "        self._height = height\n",
    "        \n",
    "    @property\n",
    "    def width(self):\n",
    "        return self._width\n",
    "\n",
    "    @width.setter\n",
    "    def width(self, width):\n",
    "        self._width = width\n",
    "        \n",
    "    @property\n",
    "    def height(self):\n",
    "        return self._height\n",
    "    \n",
    "    @height.setter\n",
    "    def height(self, height):\n",
    "        self._height = height\n",
    "        \n",
    "    def calculate_area(self):\n",
    "        return self._width * self._height\n",
    "    \n",
    "class Squere(Rectangle):\n",
    "    \n",
    "    def __init__(self, size):\n",
    "        self._width = self._height = size\n",
    "        \n",
    "    @Rectangle.width.setter\n",
    "    def width(self, size):\n",
    "        self._width = self._height = size\n",
    "        \n",
    "    @Rectangle.height.setter\n",
    "    def height(self, size):\n",
    "        self._width = self._height = size\n",
    "    \n",
    "    \n",
    "def print_area(obj):\n",
    "    change_to_width = 10\n",
    "    change_to_height = 20\n",
    "    \n",
    "    obj.width = change_to_width\n",
    "    obj.height = change_to_height\n",
    "    \n",
    "    print(f'予想面積 = {change_to_height * change_to_width}, 実際面積 = {obj.calculate_area()}')\n",
    "    \n",
    "\n",
    "rc = Rectangle(2, 3)\n",
    "print_area(rc)"
   ]
  },
  {
   "cell_type": "code",
   "execution_count": 16,
   "id": "12663c7c",
   "metadata": {},
   "outputs": [
    {
     "name": "stdout",
     "output_type": "stream",
     "text": [
      "予想面積 = 200, 実際面積 = 400\n"
     ]
    }
   ],
   "source": [
    "sq = Squere(5)\n",
    "print_area(sq)"
   ]
  },
  {
   "cell_type": "markdown",
   "id": "3521c851",
   "metadata": {},
   "source": [
    "# インタフェース分離の原則(Interface segregation principle)\n",
    "インタフェース上に必要のないメソッドを追加して、継承先が無駄なコードを作成することがないようにする\n",
    "代わりに、新しいインターフェースを作成してクラスは必要なインタフェースを継承するようにする\n"
   ]
  },
  {
   "cell_type": "markdown",
   "id": "a19ea285",
   "metadata": {},
   "source": [
    "## ダメな例"
   ]
  },
  {
   "cell_type": "code",
   "execution_count": 18,
   "id": "b379b7ad",
   "metadata": {},
   "outputs": [
    {
     "name": "stdout",
     "output_type": "stream",
     "text": [
      "I swim\n"
     ]
    }
   ],
   "source": [
    "from abc import ABCMeta, abstractmethod\n",
    "\n",
    "class Athlete(metaclass=ABCMeta):\n",
    "    \n",
    "    @abstractmethod\n",
    "    def swim(self):\n",
    "        pass\n",
    "    \n",
    "    @abstractmethod\n",
    "    def high_jump(self):\n",
    "        pass\n",
    "    \n",
    "    @abstractmethod\n",
    "    def long_jump(self):\n",
    "        pass\n",
    "    \n",
    "\n",
    "# 継承しても使わないメソッドがあると冗長的になってよくない\n",
    "class Athlete1():\n",
    "    \n",
    "    def swim(self):\n",
    "        print('I swim')\n",
    "        \n",
    "    def high_jump(self):\n",
    "        pass\n",
    "    \n",
    "    def long_jump(self):\n",
    "        pass\n",
    "    \n",
    "john = Athlete1()\n",
    "john.swim()"
   ]
  },
  {
   "cell_type": "markdown",
   "id": "805dbf3f",
   "metadata": {},
   "source": [
    "## 良い例"
   ]
  },
  {
   "cell_type": "code",
   "execution_count": 24,
   "id": "fc69747b",
   "metadata": {},
   "outputs": [
    {
     "name": "stdout",
     "output_type": "stream",
     "text": [
      "I high_jump\n"
     ]
    }
   ],
   "source": [
    "class Athlete(metaclass=ABCMeta):\n",
    "    pass\n",
    "\n",
    "class SwimAthlete(Athlete):\n",
    "    @abstractmethod\n",
    "    def swim(slef):\n",
    "        pass\n",
    "    \n",
    "class JumpAthlete(Athlete):\n",
    "    @abstractmethod\n",
    "    def high_jump(self):\n",
    "        pass\n",
    "    \n",
    "    @abstractmethod\n",
    "    def long_jump(self):\n",
    "        pass\n",
    "    \n",
    "class Athlete1(SwimAthlete):\n",
    "    def swim(self):\n",
    "        print('I swim')\n",
    "    \n",
    "class Athlete2(SwimAthlete, JumpAthlete):\n",
    "    def swim(self):\n",
    "        print('I swim')\n",
    "\n",
    "    def high_jump(self):\n",
    "        print('I high_jump')\n",
    "    \n",
    "    def long_jump(self):\n",
    "        print('I long_jump')\n",
    "        \n",
    "\n",
    "yuji = Athlete2()\n",
    "yuji.high_jump()\n",
    "    "
   ]
  },
  {
   "cell_type": "markdown",
   "id": "23486d7e",
   "metadata": {},
   "source": [
    "# 依存性逆転の原則(Dependency inversion principle)\n",
    "ソフトウェアモジュール間の依存関係を切り離すための方法"
   ]
  },
  {
   "cell_type": "code",
   "execution_count": 25,
   "id": "c51817ca",
   "metadata": {},
   "outputs": [
    {
     "name": "stdout",
     "output_type": "stream",
     "text": [
      "My Book\n"
     ]
    }
   ],
   "source": [
    "class Book:\n",
    "    def __init__(self, content):\n",
    "        self.content = content\n",
    "        \n",
    "class Formatter:\n",
    "    def format(self, book: Book):\n",
    "        return book.content\n",
    "    \n",
    "class Printer:\n",
    "    def print(self, book: Book):\n",
    "        formatter = Formatter()\n",
    "        formatted_book = formatter.format(book)\n",
    "        print(formatted_book)\n",
    "        \n",
    "book = Book('My Book')\n",
    "printer = Printer()\n",
    "printer.print(book)"
   ]
  },
  {
   "cell_type": "code",
   "execution_count": 27,
   "id": "18ef924e",
   "metadata": {},
   "outputs": [],
   "source": [
    "from abc import ABCMeta, abstractclassmethod, abstractproperty\n",
    "\n",
    "class IBook(metaclass=ABCMeta):\n",
    "    \n",
    "    @abstractproperty\n",
    "    def content(self):\n",
    "        pass\n",
    "    \n",
    "class Book(IBook):\n",
    "    \n",
    "    def __init__(self, content):\n",
    "        self._content = content\n",
    "        \n",
    "    @property\n",
    "    def content(self):\n",
    "        return self._content\n",
    "    \n",
    "\n",
    "class IFormatter(metaclass=ABCMeta):\n",
    "    \n",
    "    @abstractclassmethod\n",
    "    def format(self):\n",
    "        pass\n",
    "    \n",
    "\n",
    "class HTMLFormatter(IFormatter):\n",
    "    \n",
    "    def format(self, i_book: IBook):\n",
    "        return f'<h1>{i_book.content}</h1>'\n",
    "    \n",
    "\n",
    "class Printer:\n",
    "    \n",
    "    def __init__(self, i_formatter: IFormatter):\n",
    "        self._i_formatter = i_formatter\n",
    "        \n",
    "    def print(self, i_book: IBook):\n",
    "        formatted_book = self._i_formatter.format(i_book)\n",
    "        print(formatted_book)\n",
    "        \n",
    "book = Book('My Book')\n",
    "html_formatter = HTMLFormatter()\n",
    "html_printer = Printer(html_formatter)\n",
    "html_printer.print(book)"
   ]
  },
  {
   "cell_type": "code",
   "execution_count": 29,
   "id": "6a13d1d7",
   "metadata": {},
   "outputs": [
    {
     "name": "stdout",
     "output_type": "stream",
     "text": [
      "<h1>My Book</h1>\n"
     ]
    }
   ],
   "source": []
  },
  {
   "cell_type": "code",
   "execution_count": null,
   "id": "446d594f",
   "metadata": {},
   "outputs": [],
   "source": []
  }
 ],
 "metadata": {
  "kernelspec": {
   "display_name": "Python 3",
   "language": "python",
   "name": "python3"
  },
  "language_info": {
   "codemirror_mode": {
    "name": "ipython",
    "version": 3
   },
   "file_extension": ".py",
   "mimetype": "text/x-python",
   "name": "python",
   "nbconvert_exporter": "python",
   "pygments_lexer": "ipython3",
   "version": "3.8.8"
  },
  "toc-autonumbering": false,
  "toc-showcode": false,
  "toc-showmarkdowntxt": false
 },
 "nbformat": 4,
 "nbformat_minor": 5
}
